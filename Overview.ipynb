{
 "cells": [
  {
   "cell_type": "markdown",
   "metadata": {},
   "source": [
    "Entur operates the national registry for all public transport in Norway, collecting data from 60 public transportation operators. The registry contains data about 21,000 daily departures on 3,000 routes. This data is open and free of use for app and service developers. Entur believes in open source development and we strive to create re-usable components.\n",
    "\n",
    "## Licenses\n",
    "Data provided by Entur AS from API or published data files can be used under the Norwegian Licence for Open Government Data (NLOD). You are allowed to copy and make available, change and/or merge with other datasets, and to use them for commercial purposes.\n",
    "\n",
    "Note, in particular, the following:\n",
    "- __Entur should be credited as the source with the text: Data made available by Entur + (logo)__"
   ]
  },
  {
   "cell_type": "markdown",
   "metadata": {},
   "source": [
    "# APIs:\n",
    "\n",
    "## Geocoder\n",
    "\n",
    "Use the Geocoder API to find stop places, addresses and other places based on a name query or coordinates.  The geocoder is the engine behind the autosuggest field on entur.no and the Entur app. The results from the geocoder is usually used further in the Journey Planner API.\n",
    "\n",
    "Example questions that the Geocoder API can answer:\n",
    "\n",
    "- What stop places exist with the name \"Dronningens gate\"?\n",
    "- What is the address or stop place at coordinates 61.12353, 10.41234?\n",
    "\n",
    "## National Journey Planner\n",
    "Use the National Journey Planner API to find departures from stop places and journeys between places.\n",
    "\n",
    "## National Stop Register\n",
    "The National Stop Register (NSR) is primary used to get detailed information regarding infrastructure for a stop place. In most cases the National Journey Planner API can provide sufficient data about stop places. Use the NSR API if you need something else.\n",
    "\n",
    "## Mobility\n",
    "Aggregation API for micro-mobility services.\n",
    "\n",
    "## Real-Time Data\n",
    "We offer real-time data from all public transport sources in Norway on the SIRI 2.0 format. It comes in the standard SIRI XML or as SIRI Lite (ReST)."
   ]
  }
 ],
 "metadata": {
  "kernelspec": {
   "display_name": "Python 3 (ipykernel)",
   "language": "python",
   "name": "python3"
  },
  "language_info": {
   "codemirror_mode": {
    "name": "ipython",
    "version": 3
   },
   "file_extension": ".py",
   "mimetype": "text/x-python",
   "name": "python",
   "nbconvert_exporter": "python",
   "pygments_lexer": "ipython3",
   "version": "3.8.5"
  }
 },
 "nbformat": 4,
 "nbformat_minor": 4
}

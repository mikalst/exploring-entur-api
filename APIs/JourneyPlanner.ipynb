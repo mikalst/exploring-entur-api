{
 "cells": [
  {
   "cell_type": "markdown",
   "metadata": {},
   "source": [
    "# Journey Planner API"
   ]
  },
  {
   "cell_type": "markdown",
   "metadata": {},
   "source": [
    "This API is the core service for journey planning and uses OpenTripPlanner software to provide departure boards for individual stops, and point-to-point journey planning for all public transport in Norway, including real-time information, regardless of transport mode, or operator. All data is presented as a Transmodel-based GraphQL-API."
   ]
  },
  {
   "cell_type": "code",
   "execution_count": 1,
   "metadata": {},
   "outputs": [],
   "source": [
    "import requests as rq\n",
    "import json\n",
    "from pprint import pprint"
   ]
  },
  {
   "cell_type": "markdown",
   "metadata": {},
   "source": [
    "## POST https://api.entur.io/journey-planner/v2/graphql (Eneste endepunkt)"
   ]
  },
  {
   "cell_type": "code",
   "execution_count": null,
   "metadata": {},
   "outputs": [],
   "source": [
    "headers = {\n",
    "    \"Content-Type\": \"application/json\",\n",
    "    \"ET-Client-Name\": \"mikalst-testing\"\n",
    "}"
   ]
  },
  {
   "cell_type": "code",
   "execution_count": 28,
   "metadata": {},
   "outputs": [],
   "source": [
    "def callJP(query, variables):\n",
    "    body = {\n",
    "        \"query\": query,\n",
    "        \"variables\": variables\n",
    "    }\n",
    "    r = rq.post(\"https://api.entur.io/journey-planner/v2/graphql\", data = json.dumps(body), headers = headers)\n",
    "    if (r.status_code == 200):\n",
    "        return json.loads(r.content)\n",
    "    else:\n",
    "        raise Exception(\"Something went wrong.\")"
   ]
  },
  {
   "cell_type": "markdown",
   "metadata": {},
   "source": [
    "## Departures from stop"
   ]
  },
  {
   "cell_type": "code",
   "execution_count": 29,
   "metadata": {},
   "outputs": [
    {
     "data": {
      "text/plain": [
       "{'data': {'stopPlace': {'name': 'Oslo S',\n",
       "   'id': 'NSR:StopPlace:337',\n",
       "   'estimatedCalls': [{'expectedDepartureTime': '2021-10-03T11:39:34+0200',\n",
       "     'destinationDisplay': {'frontText': 'Skien'},\n",
       "     'serviceJourney': {'line': {'publicCode': 'R11',\n",
       "       'transportMode': 'rail'}}},\n",
       "    {'expectedDepartureTime': '2021-10-03T11:40:00+0200',\n",
       "     'destinationDisplay': {'frontText': 'Oslo Lufthavn'},\n",
       "     'serviceJourney': {'line': {'publicCode': 'F2',\n",
       "       'transportMode': 'rail'}}},\n",
       "    {'expectedDepartureTime': '2021-10-03T11:41:00+0200',\n",
       "     'destinationDisplay': {'frontText': 'Lillestrøm'},\n",
       "     'serviceJourney': {'line': {'publicCode': 'L1',\n",
       "       'transportMode': 'rail'}}},\n",
       "    {'expectedDepartureTime': '2021-10-03T11:41:18+0200',\n",
       "     'destinationDisplay': {'frontText': 'Spikkestad'},\n",
       "     'serviceJourney': {'line': {'publicCode': 'L1',\n",
       "       'transportMode': 'rail'}}},\n",
       "    {'expectedDepartureTime': '2021-10-03T11:42:00+0200',\n",
       "     'destinationDisplay': {'frontText': 'Jaren'},\n",
       "     'serviceJourney': {'line': {'publicCode': 'L3',\n",
       "       'transportMode': 'rail'}}}]}}}"
      ]
     },
     "execution_count": 29,
     "metadata": {},
     "output_type": "execute_result"
    }
   ],
   "source": [
    "q = \"{stopPlace(id:\\\"NSR:StopPlace:337\\\"){name id estimatedCalls{expectedDepartureTime destinationDisplay{frontText}serviceJourney{line{publicCode transportMode}}}}}\"\n",
    "callJP(q, None)"
   ]
  },
  {
   "cell_type": "markdown",
   "metadata": {},
   "source": [
    "## Point to stop"
   ]
  },
  {
   "cell_type": "code",
   "execution_count": 41,
   "metadata": {
    "collapsed": true,
    "jupyter": {
     "outputs_hidden": true
    }
   },
   "outputs": [
    {
     "data": {
      "text/plain": [
       "{'data': {'trip': {'tripPatterns': [{'startTime': '2021-10-03T12:10:00+0200',\n",
       "     'duration': 4320,\n",
       "     'walkDistance': 1563.8695384861703,\n",
       "     'legs': [{'mode': 'foot', 'distance': 1087.0740000000003, 'line': None},\n",
       "      {'mode': 'rail',\n",
       "       'distance': 16807.05031641034,\n",
       "       'line': {'id': 'NSB:Line:R11',\n",
       "        'publicCode': 'R11',\n",
       "        'authority': {'name': 'Vy'}}},\n",
       "      {'mode': 'foot', 'distance': 476.1240000000001, 'line': None},\n",
       "      {'mode': 'bus',\n",
       "       'distance': 28243.198029935218,\n",
       "       'line': {'id': 'RUT:Line:500',\n",
       "        'publicCode': '500',\n",
       "        'authority': {'name': 'Ruter'}}}]},\n",
       "    {'startTime': '2021-10-03T11:53:04+0200',\n",
       "     'duration': 6596,\n",
       "     'walkDistance': 783.2813846251189,\n",
       "     'legs': [{'mode': 'foot', 'distance': 628.962, 'line': None},\n",
       "      {'mode': 'bus',\n",
       "       'distance': 23774.075304864713,\n",
       "       'line': {'id': 'RUT:Line:380',\n",
       "        'publicCode': '380',\n",
       "        'authority': {'name': 'Ruter'}}},\n",
       "      {'mode': 'foot', 'distance': 154.054, 'line': None},\n",
       "      {'mode': 'bus',\n",
       "       'distance': 33054.44691969038,\n",
       "       'line': {'id': 'RUT:Line:505',\n",
       "        'publicCode': '505',\n",
       "        'authority': {'name': 'Ruter'}}}]},\n",
       "    {'startTime': '2021-10-03T12:40:00+0200',\n",
       "     'duration': 4320,\n",
       "     'walkDistance': 1563.8695384861703,\n",
       "     'legs': [{'mode': 'foot', 'distance': 1087.0740000000003, 'line': None},\n",
       "      {'mode': 'rail',\n",
       "       'distance': 16807.05031641034,\n",
       "       'line': {'id': 'NSB:Line:L12',\n",
       "        'publicCode': 'L12',\n",
       "        'authority': {'name': 'Vy'}}},\n",
       "      {'mode': 'foot', 'distance': 476.1240000000001, 'line': None},\n",
       "      {'mode': 'bus',\n",
       "       'distance': 28243.198029935218,\n",
       "       'line': {'id': 'RUT:Line:500',\n",
       "        'publicCode': '500',\n",
       "        'authority': {'name': 'Ruter'}}}]}]}}}"
      ]
     },
     "execution_count": 41,
     "metadata": {},
     "output_type": "execute_result"
    }
   ],
   "source": [
    "q = \\\n",
    "\"\"\"\n",
    "{\n",
    "  trip(\n",
    "    from: {name: \"Bjerkealleen 5A, Skedsmo\"\n",
    "    coordinates: {\n",
    "      latitude: 59.96050414081307\n",
    "      longitude:11.040338686322317\n",
    "    }}\n",
    "\n",
    "    to: {\n",
    "      place:\"NSR:StopPlace:5532\"\n",
    "      name:\"Dyrløkke, Frogn\"\n",
    "    }\n",
    "    \n",
    "    \n",
    "  )\n",
    "\n",
    "#### Requested fields\n",
    "  {\n",
    "    tripPatterns {\n",
    "      startTime\n",
    "      duration\n",
    "      walkDistance\n",
    "\n",
    "          legs {\n",
    "          \n",
    "            mode\n",
    "            distance\n",
    "            line {\n",
    "              id\n",
    "              publicCode\n",
    "              authority{\n",
    "                name\n",
    "              }\n",
    "            }\n",
    "          }\n",
    "    }\n",
    "  }\n",
    "}\n",
    "\"\"\"\n",
    "callJP(q, None)\n"
   ]
  },
  {
   "cell_type": "markdown",
   "metadata": {},
   "source": [
    "## Point to stop with realTime"
   ]
  },
  {
   "cell_type": "code",
   "execution_count": 40,
   "metadata": {
    "collapsed": true,
    "jupyter": {
     "outputs_hidden": true
    }
   },
   "outputs": [
    {
     "data": {
      "text/plain": [
       "{'data': {'trip': {'tripPatterns': [{'startTime': '2021-10-03T12:10:00+0200',\n",
       "     'duration': 4320,\n",
       "     'walkDistance': 1563.8695384861703,\n",
       "     'legs': [{'mode': 'foot', 'distance': 1087.0740000000003, 'line': None},\n",
       "      {'mode': 'rail',\n",
       "       'distance': 16807.05031641034,\n",
       "       'line': {'id': 'NSB:Line:R11',\n",
       "        'publicCode': 'R11',\n",
       "        'authority': {'name': 'Vy'}}},\n",
       "      {'mode': 'foot', 'distance': 476.1240000000001, 'line': None},\n",
       "      {'mode': 'bus',\n",
       "       'distance': 28243.198029935218,\n",
       "       'line': {'id': 'RUT:Line:500',\n",
       "        'publicCode': '500',\n",
       "        'authority': {'name': 'Ruter'}}}]},\n",
       "    {'startTime': '2021-10-03T11:52:04+0200',\n",
       "     'duration': 6656,\n",
       "     'walkDistance': 804.5733846251189,\n",
       "     'legs': [{'mode': 'foot', 'distance': 628.962, 'line': None},\n",
       "      {'mode': 'bus',\n",
       "       'distance': 21735.65392039529,\n",
       "       'line': {'id': 'RUT:Line:110',\n",
       "        'publicCode': '110',\n",
       "        'authority': {'name': 'Ruter'}}},\n",
       "      {'mode': 'foot', 'distance': 175.34599999999998, 'line': None},\n",
       "      {'mode': 'bus',\n",
       "       'distance': 33054.44691969038,\n",
       "       'line': {'id': 'RUT:Line:505',\n",
       "        'publicCode': '505',\n",
       "        'authority': {'name': 'Ruter'}}}]},\n",
       "    {'startTime': '2021-10-03T12:40:00+0200',\n",
       "     'duration': 4320,\n",
       "     'walkDistance': 1563.8695384861703,\n",
       "     'legs': [{'mode': 'foot', 'distance': 1087.0740000000003, 'line': None},\n",
       "      {'mode': 'rail',\n",
       "       'distance': 16807.05031641034,\n",
       "       'line': {'id': 'NSB:Line:L12',\n",
       "        'publicCode': 'L12',\n",
       "        'authority': {'name': 'Vy'}}},\n",
       "      {'mode': 'foot', 'distance': 476.1240000000001, 'line': None},\n",
       "      {'mode': 'bus',\n",
       "       'distance': 28243.198029935218,\n",
       "       'line': {'id': 'RUT:Line:500',\n",
       "        'publicCode': '500',\n",
       "        'authority': {'name': 'Ruter'}}}]}]}}}"
      ]
     },
     "execution_count": 40,
     "metadata": {},
     "output_type": "execute_result"
    }
   ],
   "source": [
    "numTripPatterns = 1\n",
    "query = \\\n",
    "\"\"\"\n",
    "{\n",
    "  trip(\n",
    "    from: {\n",
    "      place: \"NSR:StopPlace:3247\", \n",
    "      name: \"Asker stasjon, Asker\"\n",
    "    }, \n",
    "    to: {\n",
    "      place: \"NSR:StopPlace:269\", \n",
    "      name: \"Oslo lufthavn, Ullensaker\"\n",
    "    }, \n",
    "    numTripPatterns: 1, \n",
    "  ) {\n",
    "    tripPatterns {\n",
    "      startTime\n",
    "      duration\n",
    "      walkDistance\n",
    "      legs {\n",
    "        mode\n",
    "        distance\n",
    "        line {\n",
    "          id\n",
    "          publicCode\n",
    "          authority {\n",
    "            name\n",
    "          }\n",
    "        }\n",
    "        fromEstimatedCall {\n",
    "          quay {\n",
    "            id \n",
    "            name\n",
    "          }\n",
    "          realtime\n",
    "          aimedDepartureTime\n",
    "          expectedDepartureTime\n",
    "          actualDepartureTime\n",
    "        }\n",
    "        toEstimatedCall {\n",
    "          quay {\n",
    "            id \n",
    "            name\n",
    "          }\n",
    "          aimedDepartureTime\n",
    "          expectedDepartureTime\n",
    "          actualDepartureTime\n",
    "        }\n",
    "        intermediateEstimatedCalls {\n",
    "          aimedArrivalTime\n",
    "          expectedArrivalTime\n",
    "          actualArrivalTime\n",
    "          aimedDepartureTime\n",
    "          expectedDepartureTime\n",
    "          actualDepartureTime\n",
    "          quay {\n",
    "            id \n",
    "            name\n",
    "          }\n",
    "        }\n",
    "      }\n",
    "    }\n",
    "  }\n",
    "}\n",
    "\"\"\"\n",
    "\n",
    "callJP(q, None)\n"
   ]
  },
  {
   "cell_type": "code",
   "execution_count": null,
   "metadata": {},
   "outputs": [],
   "source": []
  },
  {
   "cell_type": "code",
   "execution_count": null,
   "metadata": {},
   "outputs": [],
   "source": []
  }
 ],
 "metadata": {
  "kernelspec": {
   "display_name": "Python 3 (ipykernel)",
   "language": "python",
   "name": "python3"
  },
  "language_info": {
   "codemirror_mode": {
    "name": "ipython",
    "version": 3
   },
   "file_extension": ".py",
   "mimetype": "text/x-python",
   "name": "python",
   "nbconvert_exporter": "python",
   "pygments_lexer": "ipython3",
   "version": "3.8.5"
  }
 },
 "nbformat": 4,
 "nbformat_minor": 4
}
